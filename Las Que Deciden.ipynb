{
  "nbformat": 4,
  "nbformat_minor": 0,
  "metadata": {
    "colab": {
      "provenance": []
    },
    "kernelspec": {
      "name": "python3",
      "display_name": "Python 3"
    },
    "language_info": {
      "name": "python"
    }
  },
  "cells": [
    {
      "cell_type": "code",
      "execution_count": null,
      "metadata": {
        "id": "TRQv6yU-ZgPW"
      },
      "outputs": [],
      "source": [
        "import pandas as pd\n",
        "\n",
        "# Carga el CSV\n",
        "df = pd.read_csv('/content/FemaleHeadofState.csv')\n",
        "\n",
        "# Lista de países de Latinoamérica\n",
        "paises = [\n",
        "    \"Argentina\",\n",
        "    \"Bolivia\",\n",
        "    \"Brasil\",\n",
        "    \"Chile\",\n",
        "    \"Colombia\",\n",
        "    \"Ecuador\",\n",
        "    \"Guyana\",\n",
        "    \"Paraguay\",\n",
        "    \"Perú\",\n",
        "    \"Peru\",\n",
        "    \"Surinam\",\n",
        "    \"Trinidad y Tobago\",\n",
        "    \"Uruguay\",\n",
        "    \"Venezuela\",\n",
        "    \"Guayana Francesa\",\n",
        "    \"Mexico\",\n",
        "    \"México\"\n",
        "]\n",
        "\n",
        "# Filtra las filas correspondientes a países de Latinoamérica\n",
        "df_latinoamerica = df[df['pais'].isin(paises)]\n",
        "\n",
        "# Guarda el nuevo CSV\n",
        "df_latinoamerica.to_csv('HeadOfState_Latam', index=False)\n"
      ]
    },
    {
      "cell_type": "code",
      "source": [
        "import pandas as pd"
      ],
      "metadata": {
        "id": "HJNm4qD4TpBt"
      },
      "execution_count": 2,
      "outputs": []
    },
    {
      "cell_type": "code",
      "source": [
        "\n",
        "# Carga el CSV\n",
        "df = pd.read_csv('/content/Poder_Mujer_Democracia.csv', sep=';')\n",
        "\n",
        "print(df.columns)\n",
        "\n",
        "año = [2022]\n",
        "\n",
        "df_latam = df[df['anio'].isin(año)]\n",
        "\n",
        "paises = [\n",
        "    \"Argentina\",\n",
        "    \"Bolivia\",\n",
        "    \"Brasil\",\n",
        "    \"Chile\",\n",
        "    \"Colombia\",\n",
        "    \"Costa Rica\",\n",
        "    \"Ecuador\",\n",
        "    \"Guyana\",\n",
        "    \"Paraguay\",\n",
        "    \"Perú\",\n",
        "    \"Peru\",\n",
        "    \"Surinam\",\n",
        "    \"Trinidad y Tobago\",\n",
        "    \"Uruguay\",\n",
        "    \"Venezuela\",\n",
        "    \"Guayana Francesa\",\n",
        "    \"Mexico\",\n",
        "    \"México\",\n",
        "    \"Honduras\",\n",
        "    \"Guatemala\",\n",
        "    \"Cuba\",\n",
        "    \"El Salvador\"\n",
        "]\n",
        "\n",
        "df_latam = df_latam[df_latam['pais'].isin(paises)]\n",
        "\n",
        "# Guarda el nuevo CSV\n",
        "df_latam.to_csv('PowerWomen_Latam2022.csv', index=False)\n"
      ],
      "metadata": {
        "id": "Kcc4_iVxxnHh",
        "colab": {
          "base_uri": "https://localhost:8080/"
        },
        "outputId": "258406bb-3413-4bcd-c497-1ffc9667cd1c"
      },
      "execution_count": 8,
      "outputs": [
        {
          "output_type": "stream",
          "name": "stdout",
          "text": [
            "Index(['pais', 'codigo', 'anio', 'ind_poder_mujer', 'indice_democracia'], dtype='object')\n"
          ]
        }
      ]
    },
    {
      "cell_type": "code",
      "source": [
        "# Parlamento\n",
        "import pandas as pd\n",
        "\n",
        "df = pd.read_csv('/content/WomenParliamentDistribution.csv', sep=';')\n",
        "\n",
        "#Paises\n",
        "paises = [\n",
        "    \"Argentina\",\n",
        "    \"Bolivia\",\n",
        "    \"Brasil\",\n",
        "    \"Chile\",\n",
        "    \"Colombia\",\n",
        "    \"Ecuador\",\n",
        "    \"Guyana\",\n",
        "    \"Paraguay\",\n",
        "    \"Perú\",\n",
        "    \"Peru\",\n",
        "    \"Surinam\",\n",
        "    \"Trinidad y Tobago\",\n",
        "    \"Uruguay\",\n",
        "    \"Venezuela\",\n",
        "    \"Guayana Francesa\",\n",
        "    \"Mexico\",\n",
        "    \"México\"\n",
        "]\n",
        "\n",
        "#filtro por país\n",
        "\n",
        "df_latamcongress = df[df['pais'].isin(paises)]\n",
        "df_latamcongress.to_csv('Congreso_DistribucionLatam.csv', index=False)"
      ],
      "metadata": {
        "id": "GxMdtWyEEkbt"
      },
      "execution_count": 10,
      "outputs": []
    },
    {
      "cell_type": "code",
      "source": [
        "df = pd.read_csv('/content/WomenParliamentDistribution.csv', sep=';')"
      ],
      "metadata": {
        "id": "RK3Udd_xmp_e"
      },
      "execution_count": null,
      "outputs": []
    }
  ]
}